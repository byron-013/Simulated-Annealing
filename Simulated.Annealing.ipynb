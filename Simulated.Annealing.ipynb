{
 "cells": [
  {
   "cell_type": "markdown",
   "metadata": {},
   "source": [
    "Within is defined: Apply_Simulated_Annealing"
   ]
  },
  {
   "cell_type": "code",
   "execution_count": null,
   "metadata": {},
   "outputs": [],
   "source": [
    "from _collections_abc import Callable, Iterable\n",
    "\n",
    "\n",
    "def Simulated_Annealing[T](\n",
    "    initial_state: T,\n",
    "    Random_Neighbor_Generator: Callable[[T], T],\n",
    "    State_Entropy_Function: Callable[[T], float],\n",
    "    annealing_schedule: Iterable[float]\n",
    ") -> T:\n",
    "    '''\n",
    "    The function Apply_Simulated_Annealing takes in the parameters:\n",
    "        -initial_state\n",
    "            The initial state, ideally initialized to a close-to-optimal state.\n",
    "\n",
    "        -Random_Number_Generator\n",
    "            A function that generates a random neighbor from a given state.\n",
    "\n",
    "        -State_Entropy_Function\n",
    "            A function that calculates the entropy of a state.\n",
    "\n",
    "        -annealing_schedule\n",
    "            An iterable which contains the annealing schedule.\n",
    "\n",
    "    The function returns the minimum entropy state\n",
    "    '''\n",
    "    from math import exp\n",
    "    from copy import deepcopy\n",
    "\n",
    "    from random import SystemRandom\n",
    "    rand = SystemRandom(0)\n",
    "\n",
    "    optimum_state = deepcopy(initial_state)\n",
    "\n",
    "    for temperature in annealing_schedule:\n",
    "        candidate_state = Random_Neighbor_Generator(optimum_state)\n",
    "        candidate_state_entropy = State_Entropy_Function(candidate_state)\n",
    "        optimum_state_entropy = State_Entropy_Function(optimum_state)\n",
    "\n",
    "        if (\n",
    "            candidate_state_entropy < optimum_state_entropy or rand.random() <\n",
    "            exp(-candidate_state_entropy - optimum_state_entropy / temperature)\n",
    "        ):\n",
    "            optimum_state = candidate_state\n",
    "\n",
    "    return optimum_state\n"
   ]
  }
 ],
 "metadata": {
  "kernelspec": {
   "display_name": "Python 3",
   "language": "python",
   "name": "python3"
  },
  "language_info": {
   "name": "python",
   "version": "3.12.3"
  }
 },
 "nbformat": 4,
 "nbformat_minor": 2
}
